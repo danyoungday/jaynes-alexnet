{
 "cells": [
  {
   "cell_type": "code",
   "execution_count": 94,
   "metadata": {},
   "outputs": [],
   "source": [
    "import os\n",
    "from tqdm import tqdm\n",
    "import PIL\n",
    "import matplotlib.pyplot as plt\n",
    "import numpy as np\n",
    "import math\n",
    "import pickle\n",
    "from scipy.optimize import curve_fit\n",
    "from sklearn.metrics import r2_score\n",
    "\n",
    "import torch\n",
    "torch.manual_seed(0)\n",
    "from torch.utils.data import DataLoader, Dataset\n",
    "from torchvision.datasets import CIFAR10\n",
    "from torchvision.models import AlexNet, AlexNet_Weights\n",
    "import torchvision.transforms as transforms\n",
    "from torchvision.io import read_image\n",
    "\n",
    "from torch.utils.tensorboard import SummaryWriter"
   ]
  },
  {
   "cell_type": "code",
   "execution_count": 95,
   "metadata": {},
   "outputs": [],
   "source": [
    "device = \"mps\"\n",
    "BINS = 10"
   ]
  },
  {
   "cell_type": "markdown",
   "metadata": {},
   "source": [
    "## Lognormal Code"
   ]
  },
  {
   "cell_type": "code",
   "execution_count": 96,
   "metadata": {},
   "outputs": [],
   "source": [
    "def lognormal(X, a, mu, sigma):\n",
    "    scale = X.multiply(sigma * (2 * torch.pi)**0.5).reciprocal().multiply(a)\n",
    "    exponent = torch.exp(-0.5 * (torch.log(X).subtract(mu)).divide(sigma).pow(2))\n",
    "    return scale.multiply(exponent)\n",
    "\n",
    "\n",
    "def compute_rsq(y_pred, y_true):\n",
    "    ssr = torch.sum(torch.pow((y_true - y_pred), 2))\n",
    "    sst = torch.sum(torch.pow((y_true - torch.mean(y_true)), 2))\n",
    "    rsq = 1 - ssr / sst\n",
    "    return rsq\n",
    "\n",
    "\n",
    "def get_weight_hist(weights, a, mu, sigma):\n",
    "    weights = weights.flatten()\n",
    "    weights = torch.abs(weights)\n",
    "    min_val = weights.min().item()\n",
    "    max_val = weights.max().item()\n",
    "    y_pred = torch.histc(weights, bins=BINS, min=min_val, max=max_val).to(device)\n",
    "    X = torch.tensor([min_val + i * (max_val - min_val) / BINS + 0.5 * (max_val - min_val) / BINS for i in range(BINS)]).to(device)\n",
    "    y_true = lognormal(X, a, mu, sigma)\n",
    "    return y_pred, y_true\n",
    "\n",
    "\n",
    "def compute_layer_rsq(weights, a, mu, sigma):\n",
    "    y_pred, y_true = get_weight_hist(weights, a, mu, sigma)\n",
    "    rsq = compute_rsq(y_pred, y_true).item()\n",
    "    return max(rsq, 0)"
   ]
  },
  {
   "cell_type": "code",
   "execution_count": 97,
   "metadata": {},
   "outputs": [],
   "source": [
    "def lognormal_old(x, a, mu, sigma):\n",
    "    \"\"\"\n",
    "    Formula for the lognormal distribution.\n",
    "    \"\"\"\n",
    "    scale = a / (x * sigma * np.sqrt(2 * np.pi))\n",
    "    term = np.exp(-0.5 * np.square((np.log(x) - mu) / sigma))\n",
    "    return scale * term\n",
    "\n",
    "def get_weight_hist_old(weights, min_val=None, max_val=None):\n",
    "    \"\"\"\n",
    "    Gets a histogram of the weights for a given model.\n",
    "    Returns the middle of each bin + their count + the min and max value in the histogram.\n",
    "    \"\"\"\n",
    "    params = weights.flatten()\n",
    "    params = torch.abs(params)\n",
    "    if min_val == None or max_val == None:\n",
    "        min_val = params.min().item()\n",
    "        max_val = params.max().item()\n",
    "    # TODO: Try sampling the number of points\n",
    "    # TODO: Try reducing the number of bins\n",
    "    hist = torch.histc(params, bins=BINS, min=min_val, max=max_val)\n",
    "    bin_mids = np.array([min_val + i * (max_val - min_val) / BINS + 0.5 * (max_val - min_val) / BINS for i in range(BINS)])\n",
    "    hist = hist.detach().cpu().numpy()\n",
    "    return bin_mids, hist\n",
    "\n",
    "def get_lognormal_params(weights):\n",
    "    \"\"\"\n",
    "    Gets lognormal parameters for a given set of weights.\n",
    "    \"\"\"\n",
    "    bin_mids, hist = get_weight_hist_old(weights)\n",
    "    popt, pcov = curve_fit(lognormal_old, bin_mids, hist, p0=(1, 0, 2))\n",
    "    return popt"
   ]
  },
  {
   "cell_type": "markdown",
   "metadata": {},
   "source": [
    "## Custom Optimizer"
   ]
  },
  {
   "cell_type": "code",
   "execution_count": 98,
   "metadata": {},
   "outputs": [],
   "source": [
    "class LogNormalOptimizer(torch.optim.Optimizer):\n",
    "    \"\"\"\n",
    "    Performs SGD with a custom lognormal step.\n",
    "    \"\"\"\n",
    "    def __init__(self, params, lr, momentum, weight_decay, dampening=0, popts=False, alpha=None, beta=None):\n",
    "        \"\"\"\n",
    "        Standard initialization\n",
    "        \"\"\"\n",
    "        defaults = dict(lr=lr, \n",
    "                        momentum=momentum, \n",
    "                        weight_decay=weight_decay, \n",
    "                        dampening=dampening, \n",
    "                        popts=popts, \n",
    "                        alpha=alpha,\n",
    "                        beta=beta)\n",
    "        super(LogNormalOptimizer, self).__init__(params, defaults)\n",
    "\n",
    "\n",
    "    def _init_group(self, group, params_with_grad, d_p_list, momentum_buffer_list):\n",
    "        for p in group['params']:\n",
    "            if p.grad is not None:\n",
    "                params_with_grad.append(p)\n",
    "                d_p_list.append(p.grad)\n",
    "                if p.grad.is_sparse:\n",
    "                    raise RuntimeError(\"What is a sparse gradient?\")\n",
    "\n",
    "                state = self.state[p]\n",
    "                if 'momentum_buffer' not in state:\n",
    "                    momentum_buffer_list.append(None)\n",
    "                else:\n",
    "                    momentum_buffer_list.append(state['momentum_buffer'])\n",
    "        \n",
    "\n",
    "    def sgd(self, params_with_grad, d_p_list, momentum_buffer_list, lr, momentum, weight_decay, dampening, popts, alpha, beta):\n",
    "        for i, param in enumerate(params_with_grad):\n",
    "\n",
    "            d_p = d_p_list[i]\n",
    "\n",
    "            # Weight decay\n",
    "            if weight_decay != 0:\n",
    "                d_p = d_p.add(param, alpha=weight_decay)\n",
    "\n",
    "            # Momentum\n",
    "            if momentum != 0:\n",
    "                buf = momentum_buffer_list[i]\n",
    "\n",
    "                if buf is None:\n",
    "                    buf = torch.clone(d_p).detach()\n",
    "                    momentum_buffer_list[i] = buf\n",
    "                else:\n",
    "                    buf.mul_(momentum).add_(d_p, alpha=1 - dampening)\n",
    "\n",
    "                d_p = buf\n",
    "\n",
    "            \"\"\"\n",
    "            This is where the lognormal optimization happen!\n",
    "            R squared is computed between current weights and 'optimal' lognormal params.\n",
    "            We use exponential decay to reduce learning rate the closer Rsq gets to 1 with:\n",
    "            decay = a * e^(-b*Rsq)\n",
    "            \"\"\"\n",
    "            if alpha:\n",
    "                rsq = compute_layer_rsq(param, *popts)\n",
    "                exp_decay = alpha * math.exp(-beta * rsq)\n",
    "                d_p = d_p.mul(exp_decay)\n",
    "\n",
    "            param.data.add_(d_p, alpha=-lr)\n",
    "            \n",
    "\n",
    "    def step(self, closure=None):\n",
    "        for group in self.param_groups:\n",
    "            # Prepare group for backprop\n",
    "            params_with_grad = []\n",
    "            d_p_list = []\n",
    "            momentum_buffer_list = []\n",
    "            self._init_group(group, params_with_grad, d_p_list, momentum_buffer_list)\n",
    "\n",
    "            self.sgd(params_with_grad, \n",
    "                     d_p_list, \n",
    "                     momentum_buffer_list, \n",
    "                     group[\"lr\"], \n",
    "                     group[\"momentum\"], \n",
    "                     group[\"weight_decay\"], \n",
    "                     group[\"dampening\"], \n",
    "                     group[\"popts\"], \n",
    "                     group[\"alpha\"],\n",
    "                     group[\"beta\"])\n",
    "\n",
    "            # update momentum_buffers in state\n",
    "            for p, momentum_buffer in zip(params_with_grad, momentum_buffer_list):\n",
    "                state = self.state[p]\n",
    "                state['momentum_buffer'] = momentum_buffer\n",
    "        "
   ]
  },
  {
   "cell_type": "markdown",
   "metadata": {},
   "source": [
    "## Model Training"
   ]
  },
  {
   "cell_type": "code",
   "execution_count": 99,
   "metadata": {},
   "outputs": [],
   "source": [
    "class CustomAlexNet(torch.nn.Module):\n",
    "    \"\"\"\n",
    "    Custom AlexNet model that replaces the final linear classification layer with\n",
    "    one with the correct number of outputs.\n",
    "    Creates a module list for each layer so that we can store our lognormal parameters.\n",
    "    \"\"\"\n",
    "    def __init__(self, n_classes):\n",
    "        super().__init__()\n",
    "        self.model = AlexNet()\n",
    "        self.model.classifier[6] = torch.nn.Linear(4096, n_classes)\n",
    "        self.params = torch.nn.ModuleDict({\n",
    "            'layer0': torch.nn.ModuleList([self.model.features[0]]),\n",
    "            'layer1': torch.nn.ModuleList([self.model.features[3]]),\n",
    "            'layer2': torch.nn.ModuleList([self.model.features[6]]),\n",
    "            'layer3': torch.nn.ModuleList([self.model.features[8]]),\n",
    "            'layer4': torch.nn.ModuleList([self.model.features[10]]),\n",
    "            'layer5': torch.nn.ModuleList([self.model.classifier[1]]),\n",
    "            'layer6': torch.nn.ModuleList([self.model.classifier[4]]),\n",
    "            'layer7': torch.nn.ModuleList([self.model.classifier[6]]),\n",
    "        })\n",
    "\n",
    "    def forward(self, X):\n",
    "        return self.model.forward(X)"
   ]
  },
  {
   "cell_type": "markdown",
   "metadata": {},
   "source": [
    "### Retrieve popts from trained model"
   ]
  },
  {
   "cell_type": "code",
   "execution_count": 100,
   "metadata": {},
   "outputs": [],
   "source": [
    "def get_lognormal_from_saved_model(path):\n",
    "    base_model = CustomAlexNet(10)\n",
    "    base_model.load_state_dict(torch.load(path))\n",
    "\n",
    "    lognormal_params = []\n",
    "    for l in range(len(base_model.params)):\n",
    "        popts = get_lognormal_params(base_model.params[f\"layer{l}\"][0].weight)\n",
    "        lognormal_params.append({\"popts\": popts})\n",
    "\n",
    "    \n",
    "    rsqs = []\n",
    "    for l in range(len(base_model.params)):\n",
    "        rsqs.append(compute_layer_rsq(base_model.params[f\"layer{l}\"][0].weight, *lognormal_params[l][\"popts\"]))\n",
    "\n",
    "    return lognormal_params, rsqs"
   ]
  },
  {
   "cell_type": "code",
   "execution_count": 101,
   "metadata": {},
   "outputs": [
    {
     "name": "stdout",
     "output_type": "stream",
     "text": [
      "[0.9789476990699768, 0.9999962449073792, 0.9690545797348022, 0.9963454008102417, 0.9888451099395752, 0.956462025642395, 0.6249033212661743, 0.9991908669471741]\n"
     ]
    }
   ],
   "source": [
    "lp, rsqs = get_lognormal_from_saved_model(\"saved/template/base_model_epoch9.pt\")\n",
    "print(rsqs)"
   ]
  },
  {
   "cell_type": "code",
   "execution_count": 102,
   "metadata": {},
   "outputs": [],
   "source": [
    "def train_model(train_ds, valid_ds, test_ds, lognormal_params=None, epochs=10, batch_size=128, lr=1e-2, momentum=0.9, weight_decay=0.0005):\n",
    "\n",
    "    # Load data\n",
    "    train_dl = DataLoader(train_ds, batch_size=batch_size, shuffle=True)\n",
    "    valid_dl = DataLoader(valid_ds, batch_size=batch_size, shuffle=True)\n",
    "    test_dl = DataLoader(test_ds, batch_size=batch_size, shuffle=True)\n",
    "\n",
    "    # Tensorboard\n",
    "    run = len(os.listdir(os.path.join(os.getcwd(), \"runs\")))\n",
    "    run_path = os.path.join(os.getcwd(), f\"runs/{run}\")\n",
    "    writer = SummaryWriter(run_path)\n",
    "    print(f\"Logging to {run}\")\n",
    "\n",
    "    # Train setup\n",
    "    model = CustomAlexNet(n_classes=10)\n",
    "    model.to(device)\n",
    "\n",
    "    if lognormal_params:\n",
    "        print(\"Optimizing with lognormal params\")\n",
    "        # Set up parameters by layer\n",
    "        to_lognormal = [0, 0, 0, 0, 0, 1, 1, 1]\n",
    "        optim_params = [{'params': model.params[f\"layer{l}\"].parameters(),\n",
    "                        'popts': lognormal_params[l]['popts'] if to_lognormal[l] else None,\n",
    "                        'alpha': lognormal_params[l]['alpha'] if to_lognormal[l] else None,\n",
    "                        'beta': lognormal_params[l]['beta'] if to_lognormal[l] else None} for l in range(len(model.params))]\n",
    "        print(optim_params)\n",
    "        optimizer = LogNormalOptimizer(optim_params, lr=lr, momentum=momentum, weight_decay=weight_decay)\n",
    "    else:\n",
    "        print(\"Optimizing with SGD\")\n",
    "        optimizer = torch.optim.SGD(model.parameters(), lr=lr, momentum=momentum, weight_decay=weight_decay)\n",
    "\n",
    "    loss_fn = torch.nn.CrossEntropyLoss()\n",
    "\n",
    "    step = 0\n",
    "    train_losses = []\n",
    "    for epoch in range(epochs):\n",
    "        model.train()\n",
    "        for img, label in tqdm(train_dl):\n",
    "            # Train step\n",
    "            img, label = img.to(device), label.to(device)\n",
    "            optimizer.zero_grad()\n",
    "            logits = model(img)\n",
    "            loss = loss_fn(logits, label)\n",
    "            loss.backward()\n",
    "            optimizer.step()\n",
    "\n",
    "            # Loss tracking\n",
    "            writer.add_scalar(\"train_loss\", loss.item(), step)\n",
    "            train_losses.append(loss.item())\n",
    "            step += 1\n",
    "\n",
    "        # Evaluate epoch\n",
    "        val_total = 0\n",
    "        model.eval()\n",
    "        with torch.no_grad():\n",
    "            for img, label in tqdm(valid_dl):\n",
    "                img, label = img.to(device), label.to(device)\n",
    "                logits = model(img)\n",
    "                # Loss tracking\n",
    "                preds = torch.argmax(logits, dim=1)\n",
    "                correct = torch.sum((preds.squeeze() == label.squeeze()).long()).item()\n",
    "                val_total += correct\n",
    "        print(f\"epoch {epoch} accuracy: {val_total / (len(valid_ds))}\")\n",
    "\n",
    "\n",
    "    # Evaluate epoch\n",
    "    test_total = 0\n",
    "    model.eval()\n",
    "    with torch.no_grad():\n",
    "        for img, label in tqdm(test_dl):\n",
    "            img, label = img.to(device), label.to(device)\n",
    "            logits = model(img)\n",
    "            # Loss tracking\n",
    "            preds = torch.argmax(logits, dim=1)\n",
    "            correct = torch.sum((preds.squeeze() == label.squeeze()).long()).item()\n",
    "            test_total += correct\n",
    "    test_acc = test_total / len(test_ds)\n",
    "    print(f\"test accuracy: {test_acc}\")\n",
    "\n",
    "    return model, train_losses, test_acc"
   ]
  },
  {
   "cell_type": "code",
   "execution_count": 103,
   "metadata": {},
   "outputs": [],
   "source": [
    "# Load data\n",
    "preprocess = AlexNet_Weights.IMAGENET1K_V1.transforms()\n",
    "ds = CIFAR10(root=os.path.join(os.getcwd(), \"data/cifar10\"), train=True, transform=preprocess)\n",
    "train_ds, valid_ds = torch.utils.data.random_split(ds, lengths=[0.8, 0.2], generator=torch.Generator().manual_seed(42))\n",
    "test_ds = CIFAR10(root=os.path.join(os.getcwd(), \"data/cifar10\"), train=False, transform=preprocess)"
   ]
  },
  {
   "cell_type": "code",
   "execution_count": 104,
   "metadata": {},
   "outputs": [],
   "source": [
    "def run_trial(lognormal_params, alexnet_hyperparams, alpha, beta, epochs, trial_name):\n",
    "    if lognormal_params:\n",
    "        print(f\"Running lognormal trial {trial_name}\")\n",
    "        for params in lognormal_params:\n",
    "            params[\"alpha\"] = alpha\n",
    "            params[\"beta\"] = beta\n",
    "    else:\n",
    "        print(f\"Running base trial {trial_name}\")\n",
    "    model, losses, acc = train_model(train_ds, valid_ds, test_ds, lognormal_params=lognormal_params, epochs=epochs, **alexnet_hyperparams)\n",
    "\n",
    "    # Save losses\n",
    "    path = f\"saved/{trial_name}_epoch{epochs-1}\"\n",
    "    with open(f\"{path}.pkl\", \"wb\") as f:\n",
    "        pickle.dump(losses, f)\n",
    "    # Save model\n",
    "    torch.save(model.state_dict(), f\"{path}.pt\")\n",
    "    # Save acc\n",
    "    with open(f\"{path}.txt\", \"w\") as f:\n",
    "        f.write(str(acc))"
   ]
  },
  {
   "cell_type": "code",
   "execution_count": 105,
   "metadata": {},
   "outputs": [
    {
     "data": {
      "image/png": "[encoded data removed]",
      "text/plain": [
       "<Figure size 640x480 with 1 Axes>"
      ]
     },
     "metadata": {},
     "output_type": "display_data"
    }
   ],
   "source": [
    "def calc_beta_from_alpha(alpha):\n",
    "    return np.log(alpha**2)\n",
    "\n",
    "def plot_exp_decay(alpha, beta):\n",
    "    ys = []\n",
    "    xs = list(range(0, 1000, 1))\n",
    "    for x in xs:\n",
    "        ys.append(alpha * np.exp(-beta * x/1000))\n",
    "    plt.ylim(0, max(ys))\n",
    "    plt.grid()\n",
    "    plt.plot([x / 1000 for x in xs], ys)\n",
    "    plt.show()\n",
    "\n",
    "plot_exp_decay(10, 2.87)"
   ]
  },
  {
   "cell_type": "code",
   "execution_count": 106,
   "metadata": {},
   "outputs": [
    {
     "name": "stdout",
     "output_type": "stream",
     "text": [
      "Running lognormal trial base?\n",
      "Logging to 12\n",
      "Optimizing with lognormal params\n",
      "[{'params': <generator object Module.parameters at 0x318686c00>, 'popts': None, 'alpha': None, 'beta': None}, {'params': <generator object Module.parameters at 0x318686ce0>, 'popts': None, 'alpha': None, 'beta': None}, {'params': <generator object Module.parameters at 0x318686dc0>, 'popts': None, 'alpha': None, 'beta': None}, {'params': <generator object Module.parameters at 0x318686ea0>, 'popts': None, 'alpha': None, 'beta': None}, {'params': <generator object Module.parameters at 0x318686f80>, 'popts': None, 'alpha': None, 'beta': None}, {'params': <generator object Module.parameters at 0x318687060>, 'popts': array([ 1.24971955e+05, -5.34095080e+00,  7.11712459e-01]), 'alpha': None, 'beta': None}, {'params': <generator object Module.parameters at 0x318687140>, 'popts': array([ 5.20577335e+04, -4.85026151e+00,  9.70780613e-01]), 'alpha': None, 'beta': None}, {'params': <generator object Module.parameters at 0x318687220>, 'popts': array([485.54615616,  -4.20069671,   0.78479006]), 'alpha': None, 'beta': None}]\n"
     ]
    },
    {
     "name": "stderr",
     "output_type": "stream",
     "text": [
      "100%|██████████| 313/313 [03:27<00:00,  1.51it/s]\n",
      "100%|██████████| 79/79 [00:22<00:00,  3.54it/s]\n"
     ]
    },
    {
     "name": "stdout",
     "output_type": "stream",
     "text": [
      "epoch 0 accuracy: 0.3391\n"
     ]
    },
    {
     "name": "stderr",
     "output_type": "stream",
     "text": [
      "100%|██████████| 313/313 [03:27<00:00,  1.51it/s]\n",
      "100%|██████████| 79/79 [00:22<00:00,  3.53it/s]\n"
     ]
    },
    {
     "name": "stdout",
     "output_type": "stream",
     "text": [
      "epoch 1 accuracy: 0.4724\n"
     ]
    },
    {
     "name": "stderr",
     "output_type": "stream",
     "text": [
      "100%|██████████| 313/313 [03:32<00:00,  1.47it/s]\n",
      "100%|██████████| 79/79 [00:22<00:00,  3.51it/s]\n"
     ]
    },
    {
     "name": "stdout",
     "output_type": "stream",
     "text": [
      "epoch 2 accuracy: 0.5324\n"
     ]
    },
    {
     "name": "stderr",
     "output_type": "stream",
     "text": [
      "100%|██████████| 313/313 [03:29<00:00,  1.49it/s]\n",
      "100%|██████████| 79/79 [00:22<00:00,  3.54it/s]\n"
     ]
    },
    {
     "name": "stdout",
     "output_type": "stream",
     "text": [
      "epoch 3 accuracy: 0.6378\n"
     ]
    },
    {
     "name": "stderr",
     "output_type": "stream",
     "text": [
      "100%|██████████| 313/313 [03:29<00:00,  1.50it/s]\n",
      "100%|██████████| 79/79 [00:22<00:00,  3.56it/s]\n"
     ]
    },
    {
     "name": "stdout",
     "output_type": "stream",
     "text": [
      "epoch 4 accuracy: 0.6956\n"
     ]
    },
    {
     "name": "stderr",
     "output_type": "stream",
     "text": [
      "100%|██████████| 313/313 [03:28<00:00,  1.50it/s]\n",
      "100%|██████████| 79/79 [00:21<00:00,  3.61it/s]\n"
     ]
    },
    {
     "name": "stdout",
     "output_type": "stream",
     "text": [
      "epoch 5 accuracy: 0.7405\n"
     ]
    },
    {
     "name": "stderr",
     "output_type": "stream",
     "text": [
      "100%|██████████| 313/313 [03:28<00:00,  1.50it/s]\n",
      "100%|██████████| 79/79 [00:21<00:00,  3.59it/s]\n"
     ]
    },
    {
     "name": "stdout",
     "output_type": "stream",
     "text": [
      "epoch 6 accuracy: 0.7217\n"
     ]
    },
    {
     "name": "stderr",
     "output_type": "stream",
     "text": [
      "100%|██████████| 313/313 [03:30<00:00,  1.49it/s]\n",
      "100%|██████████| 79/79 [00:22<00:00,  3.47it/s]\n"
     ]
    },
    {
     "name": "stdout",
     "output_type": "stream",
     "text": [
      "epoch 7 accuracy: 0.7616\n"
     ]
    },
    {
     "name": "stderr",
     "output_type": "stream",
     "text": [
      "100%|██████████| 313/313 [03:29<00:00,  1.50it/s]\n",
      "100%|██████████| 79/79 [00:22<00:00,  3.48it/s]\n"
     ]
    },
    {
     "name": "stdout",
     "output_type": "stream",
     "text": [
      "epoch 8 accuracy: 0.7769\n"
     ]
    },
    {
     "name": "stderr",
     "output_type": "stream",
     "text": [
      "100%|██████████| 313/313 [03:27<00:00,  1.51it/s]\n",
      "100%|██████████| 79/79 [00:23<00:00,  3.37it/s]\n"
     ]
    },
    {
     "name": "stdout",
     "output_type": "stream",
     "text": [
      "epoch 9 accuracy: 0.792\n"
     ]
    },
    {
     "name": "stderr",
     "output_type": "stream",
     "text": [
      "100%|██████████| 79/79 [00:22<00:00,  3.50it/s]\n"
     ]
    },
    {
     "name": "stdout",
     "output_type": "stream",
     "text": [
      "test accuracy: 0.7869\n"
     ]
    }
   ],
   "source": [
    "# Train model and get train loss\n",
    "# Note: This will not work until you have run a base trial. Then you need to point to that saved trial.\n",
    "lognormal_params, _ = get_lognormal_from_saved_model(\"saved/template/base_model_epoch9.pt\")\n",
    "alexnet_hyperparams = {\"lr\": 1e-2, \"momentum\": 0.9, \"weight_decay\": 0.0005, \"batch_size\": 128}\n",
    "#A = [1.5, 2, 3, 5, 10]\n",
    "alpha = 10\n",
    "beta = 3\n",
    "trials = [\n",
    "      # {\"trial_name\": f\"lognormal_alpha{alpha}_beta{beta}\",\n",
    "      # \"alpha\": alpha,\n",
    "      # \"beta\": beta,\n",
    "      # \"epochs\": 10},\n",
    "    {\"trial_name\": f\"base?\",\n",
    "     \"alpha\": None,\n",
    "     \"beta\": None,\n",
    "      \"epochs\": 10},\n",
    "]\n",
    "for trial in trials:\n",
    "    run_trial(lognormal_params, alexnet_hyperparams, **trial)"
   ]
  },
  {
   "cell_type": "code",
   "execution_count": 108,
   "metadata": {},
   "outputs": [
    {
     "ename": "FileNotFoundError",
     "evalue": "[Errno 2] No such file or directory: 'saved/base.pkl'",
     "output_type": "error",
     "traceback": [
      "\u001b[0;31m---------------------------------------------------------------------------\u001b[0m",
      "\u001b[0;31mFileNotFoundError\u001b[0m                         Traceback (most recent call last)",
      "\u001b[1;32m/Users/danyoung/workspace/columbia/cris/jaynes-alexnet/experiment.ipynb Cell 18\u001b[0m line \u001b[0;36m1\n\u001b[1;32m     <a href='vscode-notebook-cell:/Users/danyoung/workspace/columbia/cris/jaynes-alexnet/experiment.ipynb#X21sZmlsZQ%3D%3D?line=13'>14</a>\u001b[0m     plt\u001b[39m.\u001b[39mshow()\n\u001b[1;32m     <a href='vscode-notebook-cell:/Users/danyoung/workspace/columbia/cris/jaynes-alexnet/experiment.ipynb#X21sZmlsZQ%3D%3D?line=15'>16</a>\u001b[0m base_name \u001b[39m=\u001b[39m \u001b[39m\"\u001b[39m\u001b[39mbase\u001b[39m\u001b[39m\"\u001b[39m\n\u001b[0;32m---> <a href='vscode-notebook-cell:/Users/danyoung/workspace/columbia/cris/jaynes-alexnet/experiment.ipynb#X21sZmlsZQ%3D%3D?line=16'>17</a>\u001b[0m plot_results(base_name, [\u001b[39m\"\u001b[39;49m\u001b[39mbase_epoch9\u001b[39;49m\u001b[39m\"\u001b[39;49m, \u001b[39m\"\u001b[39;49m\u001b[39mlognormal_alpha10_beta3_epoch9\u001b[39;49m\u001b[39m\"\u001b[39;49m])\n",
      "\u001b[1;32m/Users/danyoung/workspace/columbia/cris/jaynes-alexnet/experiment.ipynb Cell 18\u001b[0m line \u001b[0;36m2\n\u001b[1;32m      <a href='vscode-notebook-cell:/Users/danyoung/workspace/columbia/cris/jaynes-alexnet/experiment.ipynb#X21sZmlsZQ%3D%3D?line=0'>1</a>\u001b[0m \u001b[39mdef\u001b[39;00m \u001b[39mplot_results\u001b[39m(base_name, trial_list):\n\u001b[0;32m----> <a href='vscode-notebook-cell:/Users/danyoung/workspace/columbia/cris/jaynes-alexnet/experiment.ipynb#X21sZmlsZQ%3D%3D?line=1'>2</a>\u001b[0m     \u001b[39mwith\u001b[39;00m \u001b[39mopen\u001b[39;49m(\u001b[39mf\u001b[39;49m\u001b[39m\"\u001b[39;49m\u001b[39msaved/\u001b[39;49m\u001b[39m{\u001b[39;49;00mbase_name\u001b[39m}\u001b[39;49;00m\u001b[39m.pkl\u001b[39;49m\u001b[39m\"\u001b[39;49m, \u001b[39m\"\u001b[39;49m\u001b[39mrb\u001b[39;49m\u001b[39m\"\u001b[39;49m) \u001b[39mas\u001b[39;00m f:\n\u001b[1;32m      <a href='vscode-notebook-cell:/Users/danyoung/workspace/columbia/cris/jaynes-alexnet/experiment.ipynb#X21sZmlsZQ%3D%3D?line=2'>3</a>\u001b[0m         losses \u001b[39m=\u001b[39m pickle\u001b[39m.\u001b[39mload(f)\n\u001b[1;32m      <a href='vscode-notebook-cell:/Users/danyoung/workspace/columbia/cris/jaynes-alexnet/experiment.ipynb#X21sZmlsZQ%3D%3D?line=3'>4</a>\u001b[0m         plt\u001b[39m.\u001b[39mplot(\u001b[39mrange\u001b[39m(\u001b[39mlen\u001b[39m(losses)), losses, label\u001b[39m=\u001b[39m\u001b[39m\"\u001b[39m\u001b[39mSGD\u001b[39m\u001b[39m\"\u001b[39m)\n",
      "File \u001b[0;32m~/workspace/columbia/cris/jaynes-alexnet/.venv/lib/python3.11/site-packages/IPython/core/interactiveshell.py:286\u001b[0m, in \u001b[0;36m_modified_open\u001b[0;34m(file, *args, **kwargs)\u001b[0m\n\u001b[1;32m    279\u001b[0m \u001b[39mif\u001b[39;00m file \u001b[39min\u001b[39;00m {\u001b[39m0\u001b[39m, \u001b[39m1\u001b[39m, \u001b[39m2\u001b[39m}:\n\u001b[1;32m    280\u001b[0m     \u001b[39mraise\u001b[39;00m \u001b[39mValueError\u001b[39;00m(\n\u001b[1;32m    281\u001b[0m         \u001b[39mf\u001b[39m\u001b[39m\"\u001b[39m\u001b[39mIPython won\u001b[39m\u001b[39m'\u001b[39m\u001b[39mt let you open fd=\u001b[39m\u001b[39m{\u001b[39;00mfile\u001b[39m}\u001b[39;00m\u001b[39m by default \u001b[39m\u001b[39m\"\u001b[39m\n\u001b[1;32m    282\u001b[0m         \u001b[39m\"\u001b[39m\u001b[39mas it is likely to crash IPython. If you know what you are doing, \u001b[39m\u001b[39m\"\u001b[39m\n\u001b[1;32m    283\u001b[0m         \u001b[39m\"\u001b[39m\u001b[39myou can use builtins\u001b[39m\u001b[39m'\u001b[39m\u001b[39m open.\u001b[39m\u001b[39m\"\u001b[39m\n\u001b[1;32m    284\u001b[0m     )\n\u001b[0;32m--> 286\u001b[0m \u001b[39mreturn\u001b[39;00m io_open(file, \u001b[39m*\u001b[39;49margs, \u001b[39m*\u001b[39;49m\u001b[39m*\u001b[39;49mkwargs)\n",
      "\u001b[0;31mFileNotFoundError\u001b[0m: [Errno 2] No such file or directory: 'saved/base.pkl'"
     ]
    }
   ],
   "source": [
    "def plot_results(base_name, trial_list):\n",
    "    with open(f\"saved/{base_name}.pkl\", \"rb\") as f:\n",
    "        losses = pickle.load(f)\n",
    "        plt.plot(range(len(losses)), losses, label=\"SGD\")\n",
    "\n",
    "    for trial in trial_list:\n",
    "        with open(f\"saved/{trial}.pkl\", \"rb\") as f:\n",
    "            lognormal_losses = pickle.load(f)\n",
    "            plt.plot(range(len(lognormal_losses)), lognormal_losses, label=f\"lognormal\")\n",
    "\n",
    "    plt.legend()\n",
    "    plt.ylabel(\"Loss\")\n",
    "    plt.xlabel(\"Batch\")\n",
    "    plt.show()\n",
    "\n",
    "plot_results(\"base_epoch9\", [\"lognormal_alpha10_beta3_epoch9\"])"
   ]
  }
 ],
 "metadata": {
  "kernelspec": {
   "display_name": "hopfield",
   "language": "python",
   "name": "python3"
  },
  "language_info": {
   "codemirror_mode": {
    "name": "ipython",
    "version": 3
   },
   "file_extension": ".py",
   "mimetype": "text/x-python",
   "name": "python",
   "nbconvert_exporter": "python",
   "pygments_lexer": "ipython3",
   "version": "3.11.6"
  }
 },
 "nbformat": 4,
 "nbformat_minor": 2
}
