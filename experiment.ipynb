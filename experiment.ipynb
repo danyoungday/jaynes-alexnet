{
 "cells": [
  {
   "cell_type": "code",
   "execution_count": 35,
   "metadata": {},
   "outputs": [],
   "source": [
    "import os\n",
    "from tqdm import tqdm\n",
    "import PIL\n",
    "import matplotlib.pyplot as plt\n",
    "import numpy as np\n",
    "import math\n",
    "import pickle\n",
    "from scipy.optimize import curve_fit\n",
    "from sklearn.metrics import r2_score\n",
    "\n",
    "import torch\n",
    "torch.manual_seed(0)\n",
    "from torch.utils.data import DataLoader, Dataset\n",
    "from torchvision.datasets import CIFAR10\n",
    "from torchvision.models import AlexNet, AlexNet_Weights\n",
    "import torchvision.transforms as transforms\n",
    "from torchvision.io import read_image\n",
    "\n",
    "from torch.utils.tensorboard import SummaryWriter"
   ]
  },
  {
   "cell_type": "code",
   "execution_count": 36,
   "metadata": {},
   "outputs": [],
   "source": [
    "device = \"mps\""
   ]
  },
  {
   "cell_type": "markdown",
   "metadata": {},
   "source": [
    "## Lognormal Code"
   ]
  },
  {
   "cell_type": "code",
   "execution_count": 37,
   "metadata": {},
   "outputs": [],
   "source": [
    "def lognormal(x, a, mu, sigma):\n",
    "    \"\"\"\n",
    "    Formula for the lognormal distribution.\n",
    "    \"\"\"\n",
    "    scale = a / (x * sigma * np.sqrt(2 * np.pi))\n",
    "    term = np.exp(-0.5 * np.square((np.log(x) - mu) / sigma))\n",
    "    return scale * term\n",
    "\n",
    "def get_weight_hist(weights, min_val=None, max_val=None):\n",
    "    \"\"\"\n",
    "    Gets a histogram of the weights for a given model.\n",
    "    Returns the middle of each bin + their count + the min and max value in the histogram.\n",
    "    \"\"\"\n",
    "    params = weights.flatten()\n",
    "    params = torch.abs(params)\n",
    "    if min_val == None or max_val == None:\n",
    "        min_val = params.min().item()\n",
    "        max_val = params.max().item()\n",
    "    bins = 50\n",
    "    hist = torch.histc(params, bins=bins, min=min_val, max=max_val)\n",
    "    bin_mids = np.array([min_val + i * (max_val - min_val) / bins + 0.5 * (max_val - min_val) / bins for i in range(bins)])\n",
    "    hist = hist.detach().cpu().numpy()\n",
    "    return bin_mids, hist, min_val, max_val\n",
    "\n",
    "def get_lognormal_params(weights):\n",
    "    \"\"\"\n",
    "    Gets lognormal parameters for a given set of weights.\n",
    "    \"\"\"\n",
    "    bin_mids, hist, min_val, max_val = get_weight_hist(weights)\n",
    "    popt, pcov = curve_fit(lognormal, bin_mids, hist, p0=(1, 0, 2))\n",
    "    return popt, min_val, max_val\n",
    "\n",
    "def compute_layer_rsq(weights, a, mu, sigma, min_val, max_val):\n",
    "    \"\"\"\n",
    "    Computes r squared between a layer's weights and given parameters for a lognormal curve.\n",
    "    \"\"\"\n",
    "    bin_mids, hist, _, _ = get_weight_hist(weights, min_val, max_val)\n",
    "    y_fit = lognormal(bin_mids, a, mu, sigma)\n",
    "    rsq = r2_score(y_fit, hist)\n",
    "    return rsq"
   ]
  },
  {
   "cell_type": "markdown",
   "metadata": {},
   "source": [
    "## Custom Optimizer"
   ]
  },
  {
   "cell_type": "code",
   "execution_count": 38,
   "metadata": {},
   "outputs": [],
   "source": [
    "class LogNormalOptimizer(torch.optim.Optimizer):\n",
    "    \"\"\"\n",
    "    Performs SGD with a custom lognormal step.\n",
    "    \"\"\"\n",
    "    def __init__(self, params, lr, momentum, weight_decay, dampening=0, popts=False, min_val=False, max_val=False, a=10, b=4.61):\n",
    "        \"\"\"\n",
    "        Standard initialization\n",
    "        \"\"\"\n",
    "        defaults = dict(lr=lr, \n",
    "                        momentum=momentum, \n",
    "                        weight_decay=weight_decay, \n",
    "                        dampening=dampening, \n",
    "                        popts=popts, \n",
    "                        min_val=min_val, \n",
    "                        max_val=max_val,\n",
    "                        a=a,\n",
    "                        b=b)\n",
    "        super(LogNormalOptimizer, self).__init__(params, defaults)\n",
    "\n",
    "\n",
    "    def _init_group(self, group, params_with_grad, d_p_list, momentum_buffer_list):\n",
    "        for p in group['params']:\n",
    "            if p.grad is not None:\n",
    "                params_with_grad.append(p)\n",
    "                d_p_list.append(p.grad)\n",
    "                if p.grad.is_sparse:\n",
    "                    raise RuntimeError(\"What is a sparse gradient?\")\n",
    "\n",
    "                state = self.state[p]\n",
    "                if 'momentum_buffer' not in state:\n",
    "                    momentum_buffer_list.append(None)\n",
    "                else:\n",
    "                    momentum_buffer_list.append(state['momentum_buffer'])\n",
    "        \n",
    "\n",
    "    def sgd(self, params_with_grad, d_p_list, momentum_buffer_list, lr, momentum, weight_decay, dampening, popts, min_val, max_val, a, b):\n",
    "        for i, param in enumerate(params_with_grad):\n",
    "\n",
    "            d_p = d_p_list[i]\n",
    "\n",
    "            # Weight decay\n",
    "            if weight_decay != 0:\n",
    "                d_p = d_p.add(param, alpha=weight_decay)\n",
    "\n",
    "            # Momentum\n",
    "            if momentum != 0:\n",
    "                buf = momentum_buffer_list[i]\n",
    "\n",
    "                if buf is None:\n",
    "                    buf = torch.clone(d_p).detach()\n",
    "                    momentum_buffer_list[i] = buf\n",
    "                else:\n",
    "                    buf.mul_(momentum).add_(d_p, alpha=1 - dampening)\n",
    "\n",
    "                d_p = buf\n",
    "\n",
    "            \"\"\"\n",
    "            This is where the lognormal optimization happen!\n",
    "            R squared is computed between current weights and 'optimal' lognormal params.\n",
    "            We use exponential decay to reduce learning rate the closer Rsq gets to 1 with:\n",
    "            decay = a * e^(-b*Rsq)\n",
    "            \"\"\"\n",
    "            if max_val:\n",
    "                rsq = compute_layer_rsq(param, *popts, min_val, max_val)\n",
    "                exp_decay = a * np.exp(-b * rsq)\n",
    "                d_p = d_p.mul(exp_decay)\n",
    "\n",
    "            param.data.add_(d_p, alpha=-lr)\n",
    "            \n",
    "\n",
    "    def step(self, closure=None):\n",
    "        for group in self.param_groups:\n",
    "            # Prepare group for backprop\n",
    "            params_with_grad = []\n",
    "            d_p_list = []\n",
    "            momentum_buffer_list = []\n",
    "            self._init_group(group, params_with_grad, d_p_list, momentum_buffer_list)\n",
    "\n",
    "            self.sgd(params_with_grad, \n",
    "                     d_p_list, \n",
    "                     momentum_buffer_list, \n",
    "                     group[\"lr\"], \n",
    "                     group[\"momentum\"], \n",
    "                     group[\"weight_decay\"], \n",
    "                     group[\"dampening\"], \n",
    "                     group[\"popts\"], \n",
    "                     group[\"min_val\"], \n",
    "                     group[\"max_val\"],\n",
    "                     group[\"a\"],\n",
    "                     group[\"b\"])\n",
    "\n",
    "            # update momentum_buffers in state\n",
    "            for p, momentum_buffer in zip(params_with_grad, momentum_buffer_list):\n",
    "                state = self.state[p]\n",
    "                state['momentum_buffer'] = momentum_buffer\n",
    "        "
   ]
  },
  {
   "cell_type": "markdown",
   "metadata": {},
   "source": [
    "## Model Training"
   ]
  },
  {
   "cell_type": "code",
   "execution_count": 39,
   "metadata": {},
   "outputs": [],
   "source": [
    "class CustomAlexNet(torch.nn.Module):\n",
    "    \"\"\"\n",
    "    Custom AlexNet model that replaces the final linear classification layer with\n",
    "    one with the correct number of outputs.\n",
    "    Creates a module list for each layer so that we can store our lognormal parameters.\n",
    "    \"\"\"\n",
    "    def __init__(self, n_classes):\n",
    "        super().__init__()\n",
    "        self.model = AlexNet()\n",
    "        self.model.classifier[6] = torch.nn.Linear(4096, n_classes)\n",
    "\n",
    "        self.params = torch.nn.ModuleDict({\n",
    "            'layer0': torch.nn.ModuleList([self.model.features[0]]),\n",
    "            'layer1': torch.nn.ModuleList([self.model.features[3]]),\n",
    "            'layer2': torch.nn.ModuleList([self.model.features[6]]),\n",
    "            'layer3': torch.nn.ModuleList([self.model.features[8]]),\n",
    "            'layer4': torch.nn.ModuleList([self.model.features[10]]),\n",
    "            'layer5': torch.nn.ModuleList([self.model.classifier[1]]),\n",
    "            'layer6': torch.nn.ModuleList([self.model.classifier[4]]),\n",
    "            'layer7': torch.nn.ModuleList([self.model.classifier[6]]),\n",
    "        })\n",
    "\n",
    "    def forward(self, X):\n",
    "        return self.model.forward(X)"
   ]
  },
  {
   "cell_type": "markdown",
   "metadata": {},
   "source": [
    "### Retrieve popts from trained model"
   ]
  },
  {
   "cell_type": "code",
   "execution_count": 40,
   "metadata": {},
   "outputs": [],
   "source": [
    "def get_lognormal_from_saved_model(path):\n",
    "    base_model = CustomAlexNet(10)\n",
    "    base_model.load_state_dict(torch.load(path))\n",
    "\n",
    "    popts = []\n",
    "    mins = []\n",
    "    maxes = []\n",
    "    for l in range(len(base_model.params)):\n",
    "        popt, min_val, max_val = get_lognormal_params(base_model.params[f\"layer{l}\"][0].weight)\n",
    "        popts.append(popt)\n",
    "        mins.append(min_val)\n",
    "        maxes.append(max_val)\n",
    "\n",
    "    lognormal_params = {\"popts\": popts, \"mins\": mins, \"maxes\": maxes}\n",
    "\n",
    "    rsqs = []\n",
    "    for l in range(len(base_model.params)):\n",
    "        rsqs.append(compute_layer_rsq(base_model.params[f\"layer{l}\"][0].weight, *(popts[l]), mins[l], maxes[l]))\n",
    "\n",
    "    return lognormal_params, rsqs"
   ]
  },
  {
   "cell_type": "code",
   "execution_count": 41,
   "metadata": {},
   "outputs": [],
   "source": [
    "def train_model(train_ds, valid_ds, test_ds, lognormal_params=None, epochs=10, batch_size=128, lr=1e-2, momentum=0.9, weight_decay=0.0005):\n",
    "\n",
    "    # Load data\n",
    "    train_dl = DataLoader(train_ds, batch_size=batch_size, shuffle=True)\n",
    "    valid_dl = DataLoader(valid_ds, batch_size=batch_size, shuffle=True)\n",
    "    test_dl = DataLoader(test_ds, batch_size=batch_size, shuffle=True)\n",
    "\n",
    "    # Tensorboard\n",
    "    run = len(os.listdir(os.path.join(os.getcwd(), \"runs\")))\n",
    "    run_path = os.path.join(os.getcwd(), f\"runs/{run}\")\n",
    "    writer = SummaryWriter(run_path)\n",
    "    print(f\"Logging to {run}\")\n",
    "\n",
    "    # Train setup\n",
    "    model = CustomAlexNet(n_classes=10)\n",
    "    model.to(device)\n",
    "\n",
    "    if lognormal_params:\n",
    "        print(\"Optimizing with lognormal params\")\n",
    "        # Set up parameters by layer\n",
    "        params = [{'params': model.params[f\"layer{l}\"].parameters(),\n",
    "                   'popts': lognormal_params['popts'][l],\n",
    "                   'min_val': lognormal_params['mins'][l],\n",
    "                   'max_val': lognormal_params['maxes'][l],\n",
    "                   'a': lognormal_params['a'],\n",
    "                   'b': lognormal_params['b']} for l in range(len(model.params))]\n",
    "        optimizer = LogNormalOptimizer(params, lr=lr, momentum=momentum, weight_decay=weight_decay)\n",
    "    else:\n",
    "        print(\"Optimizing with SGD\")\n",
    "        optimizer = torch.optim.SGD(model.parameters(), lr=lr, momentum=momentum, weight_decay=weight_decay)\n",
    "\n",
    "    loss_fn = torch.nn.CrossEntropyLoss()\n",
    "\n",
    "    step = 0\n",
    "    train_losses = []\n",
    "    for epoch in range(epochs):\n",
    "        model.train()\n",
    "        for img, label in tqdm(train_dl):\n",
    "            # Train step\n",
    "            img, label = img.to(device), label.to(device)\n",
    "            optimizer.zero_grad()\n",
    "            logits = model(img)\n",
    "            loss = loss_fn(logits, label)\n",
    "            loss.backward()\n",
    "            optimizer.step()\n",
    "\n",
    "            # Loss tracking\n",
    "            writer.add_scalar(\"train_loss\", loss.item(), step)\n",
    "            train_losses.append(loss.item())\n",
    "            step += 1\n",
    "\n",
    "        # Evaluate epoch\n",
    "        val_total = 0\n",
    "        model.eval()\n",
    "        with torch.no_grad():\n",
    "            for img, label in tqdm(valid_dl):\n",
    "                img, label = img.to(device), label.to(device)\n",
    "                logits = model(img)\n",
    "                # Loss tracking\n",
    "                preds = torch.argmax(logits, dim=1)\n",
    "                correct = torch.sum((preds.squeeze() == label.squeeze()).long()).item()\n",
    "                val_total += correct\n",
    "        print(f\"epoch {epoch} accuracy: {val_total / (len(valid_ds))}\")\n",
    "\n",
    "\n",
    "    # Evaluate epoch\n",
    "    test_total = 0\n",
    "    model.eval()\n",
    "    with torch.no_grad():\n",
    "        for img, label in tqdm(test_dl):\n",
    "            img, label = img.to(device), label.to(device)\n",
    "            logits = model(img)\n",
    "            # Loss tracking\n",
    "            preds = torch.argmax(logits, dim=1)\n",
    "            correct = torch.sum((preds.squeeze() == label.squeeze()).long()).item()\n",
    "            test_total += correct\n",
    "    test_acc = test_total / len(test_ds)\n",
    "    print(f\"test accuracy: {test_acc}\")\n",
    "\n",
    "    return model, train_losses, test_acc"
   ]
  },
  {
   "cell_type": "code",
   "execution_count": 42,
   "metadata": {},
   "outputs": [],
   "source": [
    "# Load data\n",
    "preprocess = AlexNet_Weights.IMAGENET1K_V1.transforms()\n",
    "ds = CIFAR10(root=os.path.join(os.getcwd(), \"data/cifar10\"), train=True, transform=preprocess)\n",
    "train_ds, valid_ds = torch.utils.data.random_split(ds, lengths=[0.8, 0.2], generator=torch.Generator().manual_seed(42))\n",
    "test_ds = CIFAR10(root=os.path.join(os.getcwd(), \"data/cifar10\"), train=False, transform=preprocess)"
   ]
  },
  {
   "cell_type": "code",
   "execution_count": 43,
   "metadata": {},
   "outputs": [],
   "source": [
    "def run_trial(lognormal_params, alexnet_hyperparams, a, b, epochs, trial_name):\n",
    "    if a:\n",
    "        print(f\"Running lognormal trial {trial_name}\")\n",
    "        l_params = lognormal_params\n",
    "        l_params[\"a\"] = a\n",
    "        l_params[\"b\"] = b\n",
    "    else:\n",
    "        print(f\"Running base trial {trial_name}\")\n",
    "        l_params = None\n",
    "    model, losses, acc = train_model(train_ds, valid_ds, test_ds, lognormal_params=l_params, epochs=epochs, **alexnet_hyperparams)\n",
    "\n",
    "    # Save losses\n",
    "    path = f\"saved/{trial_name}_epoch{epochs-1}\"\n",
    "    with open(f\"{path}.pkl\", \"wb\") as f:\n",
    "        pickle.dump(losses, f)\n",
    "    # Save model\n",
    "    torch.save(model.state_dict(), f\"{path}.pt\")\n",
    "    # Save acc\n",
    "    with open(f\"{path}.txt\", \"w\") as f:\n",
    "        f.write(str(acc))"
   ]
  },
  {
   "cell_type": "code",
   "execution_count": 44,
   "metadata": {},
   "outputs": [
    {
     "name": "stdout",
     "output_type": "stream",
     "text": [
      "Running lognormal trial lognormal\n",
      "Logging to 123\n",
      "Optimizing with lognormal params\n"
     ]
    },
    {
     "name": "stderr",
     "output_type": "stream",
     "text": [
      "100%|██████████| 313/313 [30:20<00:00,  5.82s/it]\n",
      "100%|██████████| 79/79 [00:22<00:00,  3.48it/s]\n"
     ]
    },
    {
     "name": "stdout",
     "output_type": "stream",
     "text": [
      "epoch 0 accuracy: 0.0973\n"
     ]
    },
    {
     "name": "stderr",
     "output_type": "stream",
     "text": [
      "100%|██████████| 79/79 [00:21<00:00,  3.59it/s]\n"
     ]
    },
    {
     "name": "stdout",
     "output_type": "stream",
     "text": [
      "test accuracy: 0.1\n"
     ]
    }
   ],
   "source": [
    "# Train model and get train loss\n",
    "# Note: This will not work until you have run a base trial. Then you need to point to that saved trial.\n",
    "lognormal_params, _ = get_lognormal_from_saved_model(\"saved/template/base_model_epoch9.pt\")\n",
    "alexnet_hyperparams = {\"lr\": 1e-2, \"momentum\": 0.9, \"weight_decay\": 0.0005, \"batch_size\": 128}\n",
    "trials = [\n",
    "    # {\"trial_name\": \"base\",\n",
    "    #  \"alpha\": None,\n",
    "    #  \"epochs\": 1},\n",
    "     {\"trial_name\": \"lognormal\",\n",
    "      \"a\": 10,\n",
    "      \"b\": 4.61,\n",
    "      \"epochs\": 1}\n",
    "]\n",
    "for trial in trials:\n",
    "    run_trial(lognormal_params, alexnet_hyperparams, **trial)"
   ]
  },
  {
   "cell_type": "code",
   "execution_count": 47,
   "metadata": {},
   "outputs": [
    {
     "name": "stdout",
     "output_type": "stream",
     "text": [
      "[2.301945447921753, 9.451831817626953, 62.217315673828125, 60.539161682128906, 108.92694091796875, 294.7548522949219, 289.81427001953125, 482.5779724121094, 814.6224365234375, 771.3228759765625, 813.501708984375, 1132.205078125, 4413.083984375, 4823.359375, 93472.5, 851771456.0, 3.488316729092853e+28, nan, nan, nan, nan, nan, nan, nan, nan, nan, nan, nan, nan, nan, nan, nan, nan, nan, nan, nan, nan, nan, nan, nan, nan, nan, nan, nan, nan, nan, nan, nan, nan, nan, nan, nan, nan, nan, nan, nan, nan, nan, nan, nan, nan, nan, nan, nan, nan, nan, nan, nan, nan, nan, nan, nan, nan, nan, nan, nan, nan, nan, nan, nan, nan, nan, nan, nan, nan, nan, nan, nan, nan, nan, nan, nan, nan, nan, nan, nan, nan, nan, nan, nan, nan, nan, nan, nan, nan, nan, nan, nan, nan, nan, nan, nan, nan, nan, nan, nan, nan, nan, nan, nan, nan, nan, nan, nan, nan, nan, nan, nan, nan, nan, nan, nan, nan, nan, nan, nan, nan, nan, nan, nan, nan, nan, nan, nan, nan, nan, nan, nan, nan, nan, nan, nan, nan, nan, nan, nan, nan, nan, nan, nan, nan, nan, nan, nan, nan, nan, nan, nan, nan, nan, nan, nan, nan, nan, nan, nan, nan, nan, nan, nan, nan, nan, nan, nan, nan, nan, nan, nan, nan, nan, nan, nan, nan, nan, nan, nan, nan, nan, nan, nan, nan, nan, nan, nan, nan, nan, nan, nan, nan, nan, nan, nan, nan, nan, nan, nan, nan, nan, nan, nan, nan, nan, nan, nan, nan, nan, nan, nan, nan, nan, nan, nan, nan, nan, nan, nan, nan, nan, nan, nan, nan, nan, nan, nan, nan, nan, nan, nan, nan, nan, nan, nan, nan, nan, nan, nan, nan, nan, nan, nan, nan, nan, nan, nan, nan, nan, nan, nan, nan, nan, nan, nan, nan, nan, nan, nan, nan, nan, nan, nan, nan, nan, nan, nan, nan, nan, nan, nan, nan, nan, nan, nan, nan, nan, nan, nan, nan, nan, nan, nan, nan, nan, nan, nan, nan, nan, nan, nan, nan, nan, nan, nan, nan]\n"
     ]
    },
    {
     "data": {
      "image/png": "[encoded data removed]",
      "text/plain": [
       "<Figure size 640x480 with 1 Axes>"
      ]
     },
     "metadata": {},
     "output_type": "display_data"
    }
   ],
   "source": [
    "def plot_results(base_name, trial_list):\n",
    "    with open(f\"saved/{base_name}.pkl\", \"rb\") as f:\n",
    "        losses = pickle.load(f)\n",
    "        plt.plot(range(len(losses)), losses, label=\"SGD\")\n",
    "\n",
    "    for trial in trial_list:\n",
    "        with open(f\"saved/{trial}.pkl\", \"rb\") as f:\n",
    "            lognormal_losses = pickle.load(f)\n",
    "            print(lognormal_losses)\n",
    "            plt.plot(range(len(lognormal_losses)), lognormal_losses, label=f\"lognormal\")\n",
    "\n",
    "    plt.legend()\n",
    "    plt.ylabel(\"Loss\")\n",
    "    plt.xlabel(\"Batch\")\n",
    "    plt.show()\n",
    "\n",
    "base_name = \"base_epoch0\"\n",
    "plot_list = [\"lognormal_epoch0\"]\n",
    "plot_results(base_name, plot_list)"
   ]
  }
 ],
 "metadata": {
  "kernelspec": {
   "display_name": "hopfield",
   "language": "python",
   "name": "python3"
  },
  "language_info": {
   "codemirror_mode": {
    "name": "ipython",
    "version": 3
   },
   "file_extension": ".py",
   "mimetype": "text/x-python",
   "name": "python",
   "nbconvert_exporter": "python",
   "pygments_lexer": "ipython3",
   "version": "3.11.6"
  }
 },
 "nbformat": 4,
 "nbformat_minor": 2
}
